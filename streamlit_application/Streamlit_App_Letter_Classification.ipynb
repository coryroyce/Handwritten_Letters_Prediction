{
  "nbformat": 4,
  "nbformat_minor": 0,
  "metadata": {
    "colab": {
      "name": "Streamlit_App_Letter_Classification.ipynb",
      "provenance": [],
      "collapsed_sections": [],
      "authorship_tag": "ABX9TyOkPXrcCQguWODNsPIOv/n4",
      "include_colab_link": true
    },
    "kernelspec": {
      "name": "python3",
      "display_name": "Python 3"
    },
    "language_info": {
      "name": "python"
    }
  },
  "cells": [
    {
      "cell_type": "markdown",
      "metadata": {
        "id": "view-in-github",
        "colab_type": "text"
      },
      "source": [
        "<a href=\"https://colab.research.google.com/github/coryroyce/Handwritten_Letters_Prediction/blob/main/streamlit_application/Streamlit_App_Letter_Classification.ipynb\" target=\"_parent\"><img src=\"https://colab.research.google.com/assets/colab-badge.svg\" alt=\"Open In Colab\"/></a>"
      ]
    },
    {
      "cell_type": "markdown",
      "metadata": {
        "id": "4X-J0Qe4zE4S"
      },
      "source": [
        "# Streamlit App - Letter Classification\n",
        "\n",
        "Updated: 2/27/2022"
      ]
    },
    {
      "cell_type": "markdown",
      "metadata": {
        "id": "h_wwtqVmFuC4"
      },
      "source": [
        "Goal: Create an app wrapper for the letter prediction model. "
      ]
    },
    {
      "cell_type": "markdown",
      "metadata": {
        "id": "dZhkwl-_GCoi"
      },
      "source": [
        "# Install Streamlit"
      ]
    },
    {
      "cell_type": "code",
      "metadata": {
        "id": "Jc8PDdp_FtIr"
      },
      "source": [
        "!pip install streamlit -q\n",
        "!pip install streamlit-drawable-canvas\n",
        "!pip install ipykernel>=5.1.2\n",
        "!pip install pydeck\n",
        "\n",
        "\n",
        "# Clear output for this cell\n",
        "from IPython.display import clear_output\n",
        "clear_output()"
      ],
      "execution_count": 1,
      "outputs": []
    },
    {
      "cell_type": "markdown",
      "metadata": {
        "id": "RQ5uvWHPklkC"
      },
      "source": [
        "Download Gihub repo to current Colab environment"
      ]
    },
    {
      "cell_type": "code",
      "metadata": {
        "colab": {
          "base_uri": "https://localhost:8080/"
        },
        "id": "1AHPjQPaW_5I",
        "outputId": "7e922519-5917-4524-9644-f7e6eec95a32"
      },
      "source": [
        "!git clone https://github.com/coryroyce/Handwritten_Letters_Prediction"
      ],
      "execution_count": 2,
      "outputs": [
        {
          "output_type": "stream",
          "name": "stdout",
          "text": [
            "Cloning into 'Handwritten_Letters_Prediction'...\n",
            "remote: Enumerating objects: 28, done.\u001b[K\n",
            "remote: Counting objects: 100% (28/28), done.\u001b[K\n",
            "remote: Compressing objects: 100% (23/23), done.\u001b[K\n",
            "remote: Total 28 (delta 3), reused 21 (delta 1), pack-reused 0\u001b[K\n",
            "Unpacking objects: 100% (28/28), done.\n"
          ]
        }
      ]
    },
    {
      "cell_type": "markdown",
      "metadata": {
        "id": "LM7XTUlqk2Oa"
      },
      "source": [
        "Create a app.py file for sreamlit to run"
      ]
    },
    {
      "cell_type": "code",
      "metadata": {
        "colab": {
          "base_uri": "https://localhost:8080/"
        },
        "id": "fxaxZK7uTLIg",
        "outputId": "ed5e5458-af5d-4134-be5e-2fabe637b50f"
      },
      "source": [
        "%%writefile app.py\n",
        "import streamlit as st\n",
        "from streamlit_drawable_canvas import st_canvas\n",
        "import tensorflow as tf\n",
        "from tensorflow import keras\n",
        "import cv2\n",
        "import numpy as np\n",
        "import pandas as pd\n",
        "import plotly.express as px\n",
        "\n",
        "\n",
        "# Cache model to load faster an only do it once rather than on every refresh\n",
        "@st.cache(allow_output_mutation = True)\n",
        "def load_models():\n",
        "  # Load in the pre-trained model\n",
        "  model_file_path = '/content/Handwritten_Letters_Prediction/models/model_conv_v01.h5'\n",
        "  model = tf.keras.models.load_model(model_file_path)\n",
        "  return model\n",
        "\n",
        "# Load the models\n",
        "model = load_models()\n",
        "\n",
        "# Define some variables and helper functions\n",
        "labels = [\n",
        "            # '0', '1', '2', '3', '4', '5', '6', '7', '8', '9',\n",
        "            'A','B','C','D','E','F','G','H','I','J','K','L','M','N','O','P','Q','R','S','T','U','V','W','X','Y','Z',\n",
        "            'a', 'b', 'd', 'e', 'f','g', 'h', 'n', 'q', 'r', 't',\n",
        "          ]\n",
        "labels_dict = {key: value for key, value in enumerate(labels)}\n",
        "\n",
        "# Define the Plotly function\n",
        "def create_probability_fig(model_prediction):\n",
        "    df_temp = pd.DataFrame(model_prediction, columns=labels_dict.values())\n",
        "    df_temp = df_temp.transpose().reset_index()\n",
        "    df_temp.columns = ['Label','Probability']\n",
        "    fig = px.bar(df_temp, x='Label', y='Probability')\n",
        "    return fig\n",
        "\n",
        "\n",
        "# Create the Application\n",
        "st.title('Letter Prediction')\n",
        "\n",
        "# Create a 2 column Streamlit layout\n",
        "col1, col2 = st.columns(2)\n",
        "\n",
        "with col1:\n",
        "  st.markdown('Draw a letter here:')\n",
        "  # Create a drawing canvas with desired properties\n",
        "  canvas_result = st_canvas(\n",
        "      fill_color=\"#ffffff\",\n",
        "      stroke_width=10,\n",
        "      stroke_color='#ffffff',\n",
        "      background_color=\"#000000\",\n",
        "      height=200,\n",
        "      width=200,\n",
        "      drawing_mode='freedraw',\n",
        "      key=\"canvas\",\n",
        "  )\n",
        "\n",
        "with col2:\n",
        "  # Show that the resized image looks like\n",
        "  st.markdown(\"What the model see's as input:\")\n",
        "  if canvas_result.image_data is not None:\n",
        "      img = cv2.resize(canvas_result.image_data.astype('uint8'), (28, 28))\n",
        "      img_rescaling = cv2.resize(img, (200, 200), interpolation=cv2.INTER_NEAREST)\n",
        "      st.image(img_rescaling)\n",
        "\n",
        "# Generate the prediction based on the users drawings\n",
        "if st.button('Predict'):\n",
        "    x_user_input = cv2.cvtColor(img, cv2.COLOR_BGR2GRAY)\n",
        "    x_user_input = x_user_input.reshape(1, 28, 28, 1) / 255 # Reshape and normalize data\n",
        "    pred = model.predict(x_user_input)\n",
        "    pred_label = labels_dict[pred.argmax()]\n",
        "    st.header(f'Predicted Label: {pred_label}')\n",
        "\n",
        "    # Create a Plotly barchart of the predicted probabilities\n",
        "    fig = create_probability_fig(pred)\n",
        "    st.plotly_chart(fig, use_container_width = True)\n",
        "\n",
        "\n",
        "# Show example predictions images\n",
        "st.header('Example Predictions')\n",
        "st.image('/content/Handwritten_Letters_Prediction/reference/letter_predictions_img_196.png')\n"
      ],
      "execution_count": 3,
      "outputs": [
        {
          "output_type": "stream",
          "name": "stdout",
          "text": [
            "Writing app.py\n"
          ]
        }
      ]
    },
    {
      "cell_type": "markdown",
      "metadata": {
        "id": "7QUTYevkGKbQ"
      },
      "source": [
        "Load an example app for reference"
      ]
    },
    {
      "cell_type": "code",
      "metadata": {
        "id": "6nvz6riTqtS8",
        "colab": {
          "base_uri": "https://localhost:8080/"
        },
        "outputId": "1abe2cdf-b7fb-42f1-f0a2-677d5ec1bb9b"
      },
      "source": [
        "!streamlit run app.py & npx localtunnel --port 8501"
      ],
      "execution_count": 4,
      "outputs": [
        {
          "output_type": "stream",
          "name": "stdout",
          "text": [
            "2022-03-02 01:53:29.013 INFO    numexpr.utils: NumExpr defaulting to 2 threads.\n",
            "\u001b[0m\n",
            "\u001b[34m\u001b[1m  You can now view your Streamlit app in your browser.\u001b[0m\n",
            "\u001b[0m\n",
            "\u001b[34m  Network URL: \u001b[0m\u001b[1mhttp://172.28.0.2:8501\u001b[0m\n",
            "\u001b[34m  External URL: \u001b[0m\u001b[1mhttp://34.125.120.114:8501\u001b[0m\n",
            "\u001b[0m\n",
            "\u001b[K\u001b[?25hnpx: installed 22 in 5.58s\n",
            "your url is: https://proud-deer-23.loca.lt\n",
            "2022-03-02 01:58:17.171314: E tensorflow/stream_executor/cuda/cuda_driver.cc:271] failed call to cuInit: CUDA_ERROR_NO_DEVICE: no CUDA-capable device is detected\n",
            "2022-03-02 03:27:38.823 InMemoryFileManager: Missing file 56abf998084ada984e95b79eaaa4b5a62c102bb5b5fdc26e501509cc.png\n",
            "2022-03-02 03:27:39.421 InMemoryFileManager: Missing file d13714203634afa70244e7bdada82f026812adff7aef796c5ad5f396.png\n",
            "2022-03-02 03:30:55.194 InMemoryFileManager: Missing file 285bf6220f7bd3123d973025c39f4d606e5bb6204b54a1de3ac47c0f.png\n",
            "\u001b[34m  Stopping...\u001b[0m\n",
            "^C\n"
          ]
        }
      ]
    },
    {
      "cell_type": "markdown",
      "metadata": {
        "id": "ylTQiQvnWGxQ"
      },
      "source": [
        "# Reference"
      ]
    },
    {
      "cell_type": "markdown",
      "metadata": {
        "id": "JibfVajkWJEM"
      },
      "source": [
        "Method for insering a Drawable Canvas and have that converted back to a python ML model was inspired by bhupendrak9917's notebook [Github](https://github.com/bhupendrak9917/My-AI-Projects/tree/main/MNIST_Streamlit)"
      ]
    }
  ]
}